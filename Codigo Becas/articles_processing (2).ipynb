{
  "cells": [
    {
      "cell_type": "markdown",
      "id": "4441515d-67c6-4757-bb91-50412abe7e3d",
      "metadata": {
        "id": "4441515d-67c6-4757-bb91-50412abe7e3d"
      },
      "source": [
        "# Pre-processing books\n",
        "\n",
        "\n"
      ]
    },
    {
      "cell_type": "code",
      "execution_count": null,
      "id": "24e4da2a-c1bf-4dee-8ab3-a56ca92e5547",
      "metadata": {
        "id": "24e4da2a-c1bf-4dee-8ab3-a56ca92e5547"
      },
      "outputs": [],
      "source": [
        "#!pip list\n",
        "#haystack: 2.0.1 -> 2.13\n",
        "#pydantic: 1.10.7 -> 2.11.5\n",
        "# pypdf-4.3.1 -> 5.5.0 # pypdf-3.8.1 -> 3.9.1\n",
        "# sentence-transformers -> 2.2.2 -> pip install --upgrade sentence-transformers==4.0.1\n",
        "#torch ->  2.2.0 -> pip uninstall, install: torch-2.2.2\n",
        "#tensorflow -> 2.12.0 -> 2.16.2\n",
        "#Successfully installed tf-keras-2.16.0"
      ]
    },
    {
      "cell_type": "code",
      "source": [
        "!pip uninstall -y sentence-transformers huggingface-hub transformers haystack-ai torch torchvision torchaudio\n",
        "!pip cache purge\n",
        "\n",
        "!pip install scikit-learn pandas pymupdf pytesseract\n",
        "!apt-get update\n",
        "!apt-get install -y tesseract-ocr\n",
        "!apt-get install -y tesseract-ocr-spa"
      ],
      "metadata": {
        "id": "3eg651ik5k4W",
        "colab": {
          "base_uri": "https://localhost:8080/"
        },
        "outputId": "87496e75-5a1b-4374-c386-2a765a6961a6"
      },
      "id": "3eg651ik5k4W",
      "execution_count": null,
      "outputs": [
        {
          "output_type": "stream",
          "name": "stdout",
          "text": [
            "Found existing installation: sentence-transformers 4.1.0\n",
            "Uninstalling sentence-transformers-4.1.0:\n",
            "  Successfully uninstalled sentence-transformers-4.1.0\n",
            "Found existing installation: huggingface-hub 0.33.4\n",
            "Uninstalling huggingface-hub-0.33.4:\n",
            "  Successfully uninstalled huggingface-hub-0.33.4\n",
            "Found existing installation: transformers 4.53.2\n",
            "Uninstalling transformers-4.53.2:\n",
            "  Successfully uninstalled transformers-4.53.2\n",
            "\u001b[33mWARNING: Skipping haystack-ai as it is not installed.\u001b[0m\u001b[33m\n",
            "\u001b[0mFound existing installation: torch 2.6.0+cu124\n",
            "Uninstalling torch-2.6.0+cu124:\n",
            "  Successfully uninstalled torch-2.6.0+cu124\n",
            "Found existing installation: torchvision 0.21.0+cu124\n",
            "Uninstalling torchvision-0.21.0+cu124:\n",
            "  Successfully uninstalled torchvision-0.21.0+cu124\n",
            "Found existing installation: torchaudio 2.6.0+cu124\n",
            "Uninstalling torchaudio-2.6.0+cu124:\n",
            "  Successfully uninstalled torchaudio-2.6.0+cu124\n",
            "\u001b[33mWARNING: No matching packages\u001b[0m\u001b[33m\n",
            "\u001b[0mFiles removed: 0\n",
            "Requirement already satisfied: scikit-learn in /usr/local/lib/python3.11/dist-packages (1.6.1)\n",
            "Requirement already satisfied: pandas in /usr/local/lib/python3.11/dist-packages (2.2.2)\n",
            "Collecting pymupdf\n",
            "  Downloading pymupdf-1.26.3-cp39-abi3-manylinux_2_28_x86_64.whl.metadata (3.4 kB)\n",
            "Collecting pytesseract\n",
            "  Downloading pytesseract-0.3.13-py3-none-any.whl.metadata (11 kB)\n",
            "Requirement already satisfied: numpy>=1.19.5 in /usr/local/lib/python3.11/dist-packages (from scikit-learn) (2.0.2)\n",
            "Requirement already satisfied: scipy>=1.6.0 in /usr/local/lib/python3.11/dist-packages (from scikit-learn) (1.15.3)\n",
            "Requirement already satisfied: joblib>=1.2.0 in /usr/local/lib/python3.11/dist-packages (from scikit-learn) (1.5.1)\n",
            "Requirement already satisfied: threadpoolctl>=3.1.0 in /usr/local/lib/python3.11/dist-packages (from scikit-learn) (3.6.0)\n",
            "Requirement already satisfied: python-dateutil>=2.8.2 in /usr/local/lib/python3.11/dist-packages (from pandas) (2.9.0.post0)\n",
            "Requirement already satisfied: pytz>=2020.1 in /usr/local/lib/python3.11/dist-packages (from pandas) (2025.2)\n",
            "Requirement already satisfied: tzdata>=2022.7 in /usr/local/lib/python3.11/dist-packages (from pandas) (2025.2)\n",
            "Requirement already satisfied: packaging>=21.3 in /usr/local/lib/python3.11/dist-packages (from pytesseract) (25.0)\n",
            "Requirement already satisfied: Pillow>=8.0.0 in /usr/local/lib/python3.11/dist-packages (from pytesseract) (11.2.1)\n",
            "Requirement already satisfied: six>=1.5 in /usr/local/lib/python3.11/dist-packages (from python-dateutil>=2.8.2->pandas) (1.17.0)\n",
            "Downloading pymupdf-1.26.3-cp39-abi3-manylinux_2_28_x86_64.whl (24.1 MB)\n",
            "\u001b[2K   \u001b[90m━━━━━━━━━━━━━━━━━━━━━━━━━━━━━━━━━━━━━━━━\u001b[0m \u001b[32m24.1/24.1 MB\u001b[0m \u001b[31m77.3 MB/s\u001b[0m eta \u001b[36m0:00:00\u001b[0m\n",
            "\u001b[?25hDownloading pytesseract-0.3.13-py3-none-any.whl (14 kB)\n",
            "Installing collected packages: pytesseract, pymupdf\n",
            "Successfully installed pymupdf-1.26.3 pytesseract-0.3.13\n",
            "Hit:1 http://archive.ubuntu.com/ubuntu jammy InRelease\n",
            "Get:2 http://archive.ubuntu.com/ubuntu jammy-updates InRelease [128 kB]\n",
            "Hit:3 https://developer.download.nvidia.com/compute/cuda/repos/ubuntu2204/x86_64  InRelease\n",
            "Get:4 https://cloud.r-project.org/bin/linux/ubuntu jammy-cran40/ InRelease [3,632 B]\n",
            "Get:5 http://archive.ubuntu.com/ubuntu jammy-backports InRelease [127 kB]\n",
            "Get:6 http://security.ubuntu.com/ubuntu jammy-security InRelease [129 kB]\n",
            "Get:7 https://r2u.stat.illinois.edu/ubuntu jammy InRelease [6,555 B]\n",
            "Hit:8 https://ppa.launchpadcontent.net/deadsnakes/ppa/ubuntu jammy InRelease\n",
            "Hit:9 https://ppa.launchpadcontent.net/graphics-drivers/ppa/ubuntu jammy InRelease\n",
            "Hit:10 https://ppa.launchpadcontent.net/ubuntugis/ppa/ubuntu jammy InRelease\n",
            "Get:11 http://archive.ubuntu.com/ubuntu jammy-updates/universe amd64 Packages [1,572 kB]\n",
            "Get:12 http://archive.ubuntu.com/ubuntu jammy-updates/main amd64 Packages [3,470 kB]\n",
            "Get:13 https://r2u.stat.illinois.edu/ubuntu jammy/main all Packages [9,138 kB]\n",
            "Get:14 http://archive.ubuntu.com/ubuntu jammy-updates/restricted amd64 Packages [5,163 kB]\n",
            "Get:15 https://r2u.stat.illinois.edu/ubuntu jammy/main amd64 Packages [2,765 kB]\n",
            "Get:16 http://security.ubuntu.com/ubuntu jammy-security/main amd64 Packages [3,157 kB]\n",
            "Get:17 http://security.ubuntu.com/ubuntu jammy-security/universe amd64 Packages [1,267 kB]\n",
            "Get:18 http://security.ubuntu.com/ubuntu jammy-security/restricted amd64 Packages [4,964 kB]\n",
            "Fetched 31.9 MB in 3s (9,717 kB/s)\n",
            "Reading package lists... Done\n",
            "W: Skipping acquire of configured file 'main/source/Sources' as repository 'https://r2u.stat.illinois.edu/ubuntu jammy InRelease' does not seem to provide it (sources.list entry misspelt?)\n",
            "Reading package lists... Done\n",
            "Building dependency tree... Done\n",
            "Reading state information... Done\n",
            "tesseract-ocr is already the newest version (4.1.1-2.1build1).\n",
            "0 upgraded, 0 newly installed, 0 to remove and 37 not upgraded.\n",
            "Reading package lists... Done\n",
            "Building dependency tree... Done\n",
            "Reading state information... Done\n",
            "The following NEW packages will be installed:\n",
            "  tesseract-ocr-spa\n",
            "0 upgraded, 1 newly installed, 0 to remove and 37 not upgraded.\n",
            "Need to get 951 kB of archives.\n",
            "After this operation, 2,309 kB of additional disk space will be used.\n",
            "Get:1 http://archive.ubuntu.com/ubuntu jammy/universe amd64 tesseract-ocr-spa all 1:4.00~git30-7274cfa-1.1 [951 kB]\n",
            "Fetched 951 kB in 1s (1,149 kB/s)\n",
            "Selecting previously unselected package tesseract-ocr-spa.\n",
            "(Reading database ... 126284 files and directories currently installed.)\n",
            "Preparing to unpack .../tesseract-ocr-spa_1%3a4.00~git30-7274cfa-1.1_all.deb ...\n",
            "Unpacking tesseract-ocr-spa (1:4.00~git30-7274cfa-1.1) ...\n",
            "Setting up tesseract-ocr-spa (1:4.00~git30-7274cfa-1.1) ...\n"
          ]
        }
      ]
    },
    {
      "cell_type": "code",
      "source": [
        "import os\n",
        "os.environ['TESSDATA_PREFIX'] = '/usr/share/tesseract-ocr/4.00/tessdata/'"
      ],
      "metadata": {
        "id": "aBgnBXEGiKTe"
      },
      "id": "aBgnBXEGiKTe",
      "execution_count": null,
      "outputs": []
    },
    {
      "cell_type": "markdown",
      "id": "77aa5b3c-138c-44d9-8b90-a7831f82e3a9",
      "metadata": {
        "id": "77aa5b3c-138c-44d9-8b90-a7831f82e3a9"
      },
      "source": [
        "# Carga de metadatos"
      ]
    },
    {
      "cell_type": "code",
      "source": [
        "from google.colab import drive\n",
        "drive.mount('/content/drive')"
      ],
      "metadata": {
        "colab": {
          "base_uri": "https://localhost:8080/"
        },
        "id": "q0CQFS1VYJoq",
        "outputId": "5f1fd6e7-8034-40b8-e310-0883cbb911e7"
      },
      "id": "q0CQFS1VYJoq",
      "execution_count": null,
      "outputs": [
        {
          "output_type": "stream",
          "name": "stdout",
          "text": [
            "Mounted at /content/drive\n"
          ]
        }
      ]
    },
    {
      "cell_type": "code",
      "execution_count": null,
      "id": "4494baf4-7b34-4146-92c2-642629a74a43",
      "metadata": {
        "colab": {
          "base_uri": "https://localhost:8080/"
        },
        "id": "4494baf4-7b34-4146-92c2-642629a74a43",
        "outputId": "125922b1-3fb9-4de9-a46d-cc0819742f9f"
      },
      "outputs": [
        {
          "output_type": "stream",
          "name": "stdout",
          "text": [
            "                   titulo      lengua  \\\n",
            "0  NACIONALIDAD TSA´CHILA    Tsa´Fiki   \n",
            "1  PUEBLO AFROECUATORIANO  Castellano   \n",
            "\n",
            "                                        ubicacion  \n",
            "0                SANTO DOMINGO DE LOS TSÁ^CHILAS   \n",
            "1  REGIÓN COSTA / REGIÓN SIERRA / REGIÓN AMAZONÍA  \n"
          ]
        }
      ],
      "source": [
        "import pandas as pd\n",
        "\n",
        "csv_path = '/content/drive/MyDrive/rag_project/articles/pueblos_y_nacionalidades.csv'\n",
        "metadata = pd.read_csv(csv_path, sep=';')\n",
        "metadata['titulo'] = metadata['titulo'].str.replace('\\n', ' ', regex=True)\n",
        "print(metadata.head(2))"
      ]
    },
    {
      "cell_type": "markdown",
      "id": "cd1dddd3-f97b-4413-835f-ba56795066fe",
      "metadata": {
        "id": "cd1dddd3-f97b-4413-835f-ba56795066fe"
      },
      "source": [
        "# Obtener rutas de archivos"
      ]
    },
    {
      "cell_type": "code",
      "execution_count": null,
      "id": "3cb7f560-562d-42ae-b50d-cda1fdadb6f4",
      "metadata": {
        "id": "3cb7f560-562d-42ae-b50d-cda1fdadb6f4"
      },
      "outputs": [],
      "source": [
        "import glob\n",
        "\n",
        "def get_txt_paths(folder_path):\n",
        "    return glob.glob(f\"{folder_path}/*.txt\")\n",
        "\n",
        "folder = \"/content/drive/MyDrive/rag_project/articles\"\n",
        "txt_files = get_txt_paths(folder)"
      ]
    },
    {
      "cell_type": "code",
      "source": [
        "print(f\"Archivos TXT encontrados: {txt_files}\")"
      ],
      "metadata": {
        "colab": {
          "base_uri": "https://localhost:8080/"
        },
        "id": "Fh-dLirPeSMx",
        "outputId": "dc7ddb9a-3312-4d25-d3ca-902185b1585b"
      },
      "id": "Fh-dLirPeSMx",
      "execution_count": null,
      "outputs": [
        {
          "output_type": "stream",
          "name": "stdout",
          "text": [
            "Archivos TXT encontrados: []\n"
          ]
        }
      ]
    },
    {
      "cell_type": "markdown",
      "id": "85163fea-4ffb-4f40-b6aa-df2e22b54445",
      "metadata": {
        "id": "85163fea-4ffb-4f40-b6aa-df2e22b54445"
      },
      "source": [
        "# Extraer texto"
      ]
    },
    {
      "cell_type": "code",
      "execution_count": null,
      "id": "bb77b6a2-b3d7-4498-b50f-9c7f60c4bc95",
      "metadata": {
        "colab": {
          "base_uri": "https://localhost:8080/"
        },
        "id": "bb77b6a2-b3d7-4498-b50f-9c7f60c4bc95",
        "outputId": "ce602933-99af-4803-d3c9-7f52e4a008e0"
      },
      "outputs": [
        {
          "output_type": "stream",
          "name": "stdout",
          "text": [
            "Archivo ejemplo 2 de pueblos y nacionalidades.pdf procesado, longitud texto: 1472\n",
            "Archivo ejemplo pueblos y nacionalidades.pdf procesado, longitud texto: 2349\n",
            "Archivo EJEMPLO 1 DE PUEBLOS Y NACIONALIDADES.pdf procesado, longitud texto: 1345\n",
            "Archivo EJEMPLO 2 DE PUEBLOS Y NACIONALIDADES.pdf procesado, longitud texto: 1279\n",
            "Archivo EJEMPLO 3 DE PUEBLOS Y NACIONALIDADES.pdf procesado, longitud texto: 1769\n",
            "Archivo ejemplo 4 de pueblos y nacionalidades.pdf procesado, longitud texto: 1749\n"
          ]
        }
      ],
      "source": [
        "import pytesseract\n",
        "from PIL import Image\n",
        "import fitz  # PyMuPDF\n",
        "import os\n",
        "\n",
        "pdf_folder = \"/content/drive/MyDrive/rag_project/articles\"\n",
        "output_folder = \"/content/drive/MyDrive/rag_project/texts\"\n",
        "os.makedirs(output_folder, exist_ok=True)\n",
        "\n",
        "for filename in os.listdir(pdf_folder):\n",
        "    if filename.endswith(\".pdf\"):\n",
        "        pdf_path = os.path.join(pdf_folder, filename)\n",
        "        doc = fitz.open(pdf_path)\n",
        "        text = \"\"\n",
        "\n",
        "        for page_num in range(len(doc)):\n",
        "            page = doc.load_page(page_num)\n",
        "            pix = page.get_pixmap()\n",
        "            img_path = f\"/tmp/page_{page_num}.png\"\n",
        "            pix.save(img_path)\n",
        "\n",
        "            # OCR en imagen de la página\n",
        "            text += pytesseract.image_to_string(Image.open(img_path), lang='spa') + \"\\n\"\n",
        "\n",
        "        doc.close()\n",
        "\n",
        "        print(f\"Archivo {filename} procesado, longitud texto: {len(text)}\")\n",
        "\n",
        "        txt_filename = filename.replace(\".pdf\", \".txt\")\n",
        "        with open(os.path.join(output_folder, txt_filename), \"w\", encoding=\"utf-8\") as f:\n",
        "            f.write(text)"
      ]
    },
    {
      "cell_type": "code",
      "source": [
        "import os\n",
        "\n",
        "print(os.listdir(\"/content/drive/MyDrive/rag_project/texts\"))"
      ],
      "metadata": {
        "colab": {
          "base_uri": "https://localhost:8080/"
        },
        "id": "gViOEEMIgO4J",
        "outputId": "4105b563-c80e-419b-e3d8-da9a13f59bca"
      },
      "id": "gViOEEMIgO4J",
      "execution_count": null,
      "outputs": [
        {
          "output_type": "stream",
          "name": "stdout",
          "text": [
            "['ejemplo 2 de pueblos y nacionalidades.txt', 'ejemplo pueblos y nacionalidades.txt', 'EJEMPLO 1 DE PUEBLOS Y NACIONALIDADES.txt', 'EJEMPLO 2 DE PUEBLOS Y NACIONALIDADES.txt', 'EJEMPLO 3 DE PUEBLOS Y NACIONALIDADES.txt', 'ejemplo 4 de pueblos y nacionalidades.txt']\n"
          ]
        }
      ]
    },
    {
      "cell_type": "code",
      "execution_count": null,
      "id": "F4cVyJnbBLzq",
      "metadata": {
        "id": "F4cVyJnbBLzq",
        "colab": {
          "base_uri": "https://localhost:8080/"
        },
        "outputId": "49d275d3-880d-4696-b776-e67ffa0a7365"
      },
      "outputs": [
        {
          "output_type": "stream",
          "name": "stdout",
          "text": [
            "✅ PDFs convertidos a TXT correctamente.\n"
          ]
        }
      ],
      "source": [
        "print(\"✅ PDFs convertidos a TXT correctamente.\")"
      ]
    },
    {
      "cell_type": "markdown",
      "source": [
        "## Cargar documentos"
      ],
      "metadata": {
        "id": "yS9HMjElcXVL"
      },
      "id": "yS9HMjElcXVL"
    },
    {
      "cell_type": "code",
      "source": [
        "import glob\n",
        "\n",
        "input_folder = \"/content/drive/MyDrive/rag_project/texts\"\n",
        "\n",
        "def get_txt_paths(folder_path):\n",
        "    return glob.glob(f\"{folder_path}/*.txt\")\n",
        "\n",
        "txt_files = get_txt_paths(input_folder)\n",
        "print(txt_files)"
      ],
      "metadata": {
        "colab": {
          "base_uri": "https://localhost:8080/"
        },
        "id": "pIEnm0VUgTs3",
        "outputId": "3979d062-777c-4cb0-b017-4aba85671025"
      },
      "id": "pIEnm0VUgTs3",
      "execution_count": null,
      "outputs": [
        {
          "output_type": "stream",
          "name": "stdout",
          "text": [
            "['/content/drive/MyDrive/rag_project/texts/ejemplo 2 de pueblos y nacionalidades.txt', '/content/drive/MyDrive/rag_project/texts/ejemplo pueblos y nacionalidades.txt', '/content/drive/MyDrive/rag_project/texts/EJEMPLO 1 DE PUEBLOS Y NACIONALIDADES.txt', '/content/drive/MyDrive/rag_project/texts/EJEMPLO 2 DE PUEBLOS Y NACIONALIDADES.txt', '/content/drive/MyDrive/rag_project/texts/EJEMPLO 3 DE PUEBLOS Y NACIONALIDADES.txt', '/content/drive/MyDrive/rag_project/texts/ejemplo 4 de pueblos y nacionalidades.txt']\n"
          ]
        }
      ]
    },
    {
      "cell_type": "code",
      "execution_count": null,
      "id": "3bd95b67-2c35-48a6-b8b0-35583adcfd8e",
      "metadata": {
        "id": "3bd95b67-2c35-48a6-b8b0-35583adcfd8e"
      },
      "outputs": [],
      "source": [
        "documents = []\n",
        "\n",
        "for i, file_path in enumerate(sorted(txt_files)):\n",
        "    with open(file_path, 'r', encoding='utf-8') as f:\n",
        "        content = f.read()\n",
        "    title = metadata.iloc[i]['titulo']\n",
        "    lengua = metadata.iloc[i]['lengua']\n",
        "    ubicacion = metadata.iloc[i]['ubicacion']\n",
        "    meta = {\n",
        "        'file_path': file_path.replace(input_folder, ''),\n",
        "        'title': title,\n",
        "        'lengua': lengua,\n",
        "        'ubicacion': ubicacion\n",
        "    }\n",
        "    documents.append({\n",
        "        'content': content,\n",
        "        'meta': meta\n",
        "    })"
      ]
    },
    {
      "cell_type": "code",
      "execution_count": null,
      "id": "GJA1EXNUBHSd",
      "metadata": {
        "id": "GJA1EXNUBHSd",
        "colab": {
          "base_uri": "https://localhost:8080/"
        },
        "outputId": "e3d25d7e-02a6-4ade-d99a-8dc5d559d853"
      },
      "outputs": [
        {
          "output_type": "stream",
          "name": "stdout",
          "text": [
            "✅ Documentos cargados: 6\n",
            "{'content': 'NACIONALIDADES Y PUEBLOS ORIGINARIOS NACIONALIDAD SHUAR.\\n\\nCantón Macas Prodncia de Moron Samiago Ecuador\\n\\nCERTIFICADO DE PERTENENCIA\\n\\nLa suscrita señora, LUCÍA NANTIP JAMANOH, con códula de ciudadanía 1402987643, en\\ncalidad de WINARU DE LAS NACIONALIDADES Y PUEBLOS ORIGINARIOS DE LA,\\nNACIONALIDAD SHUAR. SHUARMAKA ICHIAMU NUWIAR, En uso de sus atribuciones\\nestatutarias vigentes y en forma legal, concede el siguiente\\n\\nCERTIFICA\\n\\n¡Conocer al joven: KUNKU KUNTUI DAVID JAVIER, portador de La códula do identidad N*.\\n140385021-7, de nacionalidad shuar, hablante detidioma Shuar Chicham, domiciliado\\n¡na comunidad Taisha Yuwint, parroquía Talsha, cantón Taisha, provincia de Morona\\nSantiago.\\n\\n¡Sus orígenos y ascendencia pertenecen a esta nacionalidad, en consecuencia, el\\nmencionado joven forma parte legítima de las nacionalidades indigenas de la Amazonía\\necuatoriana, por herencia ancestral y derecho propio,\\n\\n \\n\\nRazón pora cual CERTIFICO, concedo se considere y pueda tramitar ona api\\nse tiene con la obtención de beca como ciudadano de la nacionalidad shuar.\\n\\n \\n\\nElpresente certificado es otorgado en el despacho de la oficina de las Nacionalidades y\\nPueblos Originarios dela Nacionalidad Shuar, a los dieciséis días del mes de julio de dos\\nmilveinticinco,\\n\\n \\n\\nAtentamente,\\n\\nSAPETSAMA SHUARMAKA WINARU PRESIDENTA.\\nSra. Lucía Nantip Jamanch\\n\\x0c\\n', 'meta': {'file_path': '/EJEMPLO 1 DE PUEBLOS Y NACIONALIDADES.txt', 'title': 'NACIONALIDAD TSA´CHILA', 'lengua': 'Tsa´Fiki', 'ubicacion': 'SANTO DOMINGO DE LOS TSÁ^CHILAS '}}\n"
          ]
        }
      ],
      "source": [
        "print(f\"✅ Documentos cargados: {len(documents)}\")\n",
        "print(documents[0])"
      ]
    },
    {
      "cell_type": "markdown",
      "id": "3ae01236-d9de-413b-ba94-52b56134e8c2",
      "metadata": {
        "id": "3ae01236-d9de-413b-ba94-52b56134e8c2"
      },
      "source": [
        "## Crear nuevamente documentos de haystack con nuevos ids."
      ]
    },
    {
      "cell_type": "code",
      "source": [
        "import os\n",
        "\n",
        "txt_folder = \"/content/drive/MyDrive/rag_project/texts\"\n",
        "txt_files = sorted([f for f in os.listdir(txt_folder) if f.endswith('.txt')])\n",
        "\n",
        "print(f\"Archivos TXT encontrados: {len(txt_files)}\")\n",
        "\n",
        "for i, filename in enumerate(txt_files[:3]):\n",
        "    path = os.path.join(txt_folder, filename)\n",
        "    with open(path, 'r', encoding='utf-8') as f:\n",
        "        content = f.read(500)  # primeros 500 caracteres\n",
        "    print(f\"Archivo {i}: {filename}\\nContenido (primeros 500 chars):\\n{content}\\n---\")"
      ],
      "metadata": {
        "colab": {
          "base_uri": "https://localhost:8080/"
        },
        "id": "VLXNrJ7xhUtm",
        "outputId": "629ee28f-c05a-468e-900e-3131fe192d9a"
      },
      "id": "VLXNrJ7xhUtm",
      "execution_count": null,
      "outputs": [
        {
          "output_type": "stream",
          "name": "stdout",
          "text": [
            "Archivos TXT encontrados: 6\n",
            "Archivo 0: EJEMPLO 1 DE PUEBLOS Y NACIONALIDADES.txt\n",
            "Contenido (primeros 500 chars):\n",
            "NACIONALIDADES Y PUEBLOS ORIGINARIOS NACIONALIDAD SHUAR.\n",
            "\n",
            "Cantón Macas Prodncia de Moron Samiago Ecuador\n",
            "\n",
            "CERTIFICADO DE PERTENENCIA\n",
            "\n",
            "La suscrita señora, LUCÍA NANTIP JAMANOH, con códula de ciudadanía 1402987643, en\n",
            "calidad de WINARU DE LAS NACIONALIDADES Y PUEBLOS ORIGINARIOS DE LA,\n",
            "NACIONALIDAD SHUAR. SHUARMAKA ICHIAMU NUWIAR, En uso de sus atribuciones\n",
            "estatutarias vigentes y en forma legal, concede el siguiente\n",
            "\n",
            "CERTIFICA\n",
            "\n",
            "¡Conocer al joven: KUNKU KUNTUI DAVID JAVIER, portador de La códula d\n",
            "---\n",
            "Archivo 1: EJEMPLO 2 DE PUEBLOS Y NACIONALIDADES.txt\n",
            "Contenido (primeros 500 chars):\n",
            "NACIONALIDADES Y PUEBLOS ORIGINARIOS PUEBLO AFOECUATORIANO\n",
            "\n",
            "CERTIFICADO DE PERTENENCIA\n",
            "\n",
            "La suscrita señora, ANGÉLICA MOREIRA QUIÑÓNEZ, con cédula do ciudadanía\n",
            "10804562391, en calidad de REPRESENTANTE LEGÍTIMA DEL PUEBLO AFROECUATORIANO\n",
            "DE LA REGIÓN COSTA. EN USO DE SUS ATRIBUCIONES COMUNITARIAS y conforme ala\n",
            "normativa igento, concede el siguiente:\n",
            "\n",
            " \n",
            "\n",
            "CERTIFICA\n",
            "\n",
            "¡Conocer ala señorita: PALACIOS MONTENEGRO ESTEFANÍA MILENA, portador\n",
            "¡cádula de idontidad N”. 080325768-5, de pertenencia al Pueblo \n",
            "---\n",
            "Archivo 2: EJEMPLO 3 DE PUEBLOS Y NACIONALIDADES.txt\n",
            "Contenido (primeros 500 chars):\n",
            "CHINCHAYSUYU JATUN AYLLU LLAKTAKUNAPAK TANTARI\n",
            "La Federación delos Pueblos Kichwa dela Siera Centro del Ecuador, y en su nombre,\n",
            "Patricio Quishpe Tanday, en calidad de Presidente y Representante Legal de la CHUALLTA\n",
            "KAWSAY, en uso de mis atribucionas legalos y por portonecar a a estructura Organizativa\n",
            "Provincial, tengo a bien extender ol prasante:\n",
            "\n",
            "AVAL\n",
            "\n",
            "Elcompañoro Luis Fernando Sisa Gualli, con códula de ciudadanía C.C. 050487921-\n",
            "solicita ala Federación delos Pueblos Kichwas de la Sierra Cen\n",
            "---\n"
          ]
        }
      ]
    },
    {
      "cell_type": "code",
      "source": [
        "for i, doc in enumerate(documents[:3]):\n",
        "    print(f\"Doc {i} contenido (primeros 500 chars):\\n{doc['content'][:500]}\\n---\")"
      ],
      "metadata": {
        "colab": {
          "base_uri": "https://localhost:8080/"
        },
        "id": "w4BWLdumg9WP",
        "outputId": "0fbfdfad-c432-42bb-859c-b02957c6f174"
      },
      "id": "w4BWLdumg9WP",
      "execution_count": null,
      "outputs": [
        {
          "output_type": "stream",
          "name": "stdout",
          "text": [
            "Doc 0 contenido (primeros 500 chars):\n",
            "NACIONALIDADES Y PUEBLOS ORIGINARIOS NACIONALIDAD SHUAR.\n",
            "\n",
            "Cantón Macas Prodncia de Moron Samiago Ecuador\n",
            "\n",
            "CERTIFICADO DE PERTENENCIA\n",
            "\n",
            "La suscrita señora, LUCÍA NANTIP JAMANOH, con códula de ciudadanía 1402987643, en\n",
            "calidad de WINARU DE LAS NACIONALIDADES Y PUEBLOS ORIGINARIOS DE LA,\n",
            "NACIONALIDAD SHUAR. SHUARMAKA ICHIAMU NUWIAR, En uso de sus atribuciones\n",
            "estatutarias vigentes y en forma legal, concede el siguiente\n",
            "\n",
            "CERTIFICA\n",
            "\n",
            "¡Conocer al joven: KUNKU KUNTUI DAVID JAVIER, portador de La códula d\n",
            "---\n",
            "Doc 1 contenido (primeros 500 chars):\n",
            "NACIONALIDADES Y PUEBLOS ORIGINARIOS PUEBLO AFOECUATORIANO\n",
            "\n",
            "CERTIFICADO DE PERTENENCIA\n",
            "\n",
            "La suscrita señora, ANGÉLICA MOREIRA QUIÑÓNEZ, con cédula do ciudadanía\n",
            "10804562391, en calidad de REPRESENTANTE LEGÍTIMA DEL PUEBLO AFROECUATORIANO\n",
            "DE LA REGIÓN COSTA. EN USO DE SUS ATRIBUCIONES COMUNITARIAS y conforme ala\n",
            "normativa igento, concede el siguiente:\n",
            "\n",
            " \n",
            "\n",
            "CERTIFICA\n",
            "\n",
            "¡Conocer ala señorita: PALACIOS MONTENEGRO ESTEFANÍA MILENA, portador\n",
            "¡cádula de idontidad N”. 080325768-5, de pertenencia al Pueblo \n",
            "---\n",
            "Doc 2 contenido (primeros 500 chars):\n",
            "CHINCHAYSUYU JATUN AYLLU LLAKTAKUNAPAK TANTARI\n",
            "La Federación delos Pueblos Kichwa dela Siera Centro del Ecuador, y en su nombre,\n",
            "Patricio Quishpe Tanday, en calidad de Presidente y Representante Legal de la CHUALLTA\n",
            "KAWSAY, en uso de mis atribucionas legalos y por portonecar a a estructura Organizativa\n",
            "Provincial, tengo a bien extender ol prasante:\n",
            "\n",
            "AVAL\n",
            "\n",
            "Elcompañoro Luis Fernando Sisa Gualli, con códula de ciudadanía C.C. 050487921-\n",
            "solicita ala Federación delos Pueblos Kichwas de la Sierra Cen\n",
            "---\n"
          ]
        }
      ]
    },
    {
      "cell_type": "markdown",
      "source": [
        "# Vectorizar y buscar similitud"
      ],
      "metadata": {
        "id": "wCARyljzctrD"
      },
      "id": "wCARyljzctrD"
    },
    {
      "cell_type": "code",
      "execution_count": null,
      "id": "jKrm2jT1lZLE",
      "metadata": {
        "id": "jKrm2jT1lZLE",
        "colab": {
          "base_uri": "https://localhost:8080/"
        },
        "outputId": "b54b17cc-87ca-4f3c-b878-cc7a8ee699ad"
      },
      "outputs": [
        {
          "output_type": "stream",
          "name": "stdout",
          "text": [
            "Vectorización completada para 6 documentos.\n"
          ]
        }
      ],
      "source": [
        "from sklearn.feature_extraction.text import TfidfVectorizer\n",
        "from sklearn.metrics.pairwise import cosine_similarity\n",
        "import numpy as np\n",
        "\n",
        "vectorizer = TfidfVectorizer()\n",
        "doc_texts = [doc['content'] for doc in documents]\n",
        "doc_vectors = vectorizer.fit_transform(doc_texts)\n",
        "print(f\"Vectorización completada para {len(documents)} documentos.\")"
      ]
    },
    {
      "cell_type": "code",
      "execution_count": null,
      "id": "D6oFtqUxYYs5",
      "metadata": {
        "id": "D6oFtqUxYYs5",
        "colab": {
          "base_uri": "https://localhost:8080/"
        },
        "outputId": "ad855358-75ea-4574-dffd-0ddc4122a00a"
      },
      "outputs": [
        {
          "output_type": "stream",
          "name": "stdout",
          "text": [
            "Score: 0.0523\n",
            "Título: NACIONALIDAD CHACHI\n",
            "Contenido: NACIONALIDADES Y PUEBLOS ORIGINARIOS\n",
            "\n",
            "CAMPESINOS AMAZÓNICOS DE NAPO “NAPOCA”\n",
            "Resolución N' SGDPM-ORCPN-2022-0067.R. 28 de octubre de 2022\n",
            "Cantón Tena - Provincia de Napo — Ecuador\n",
            "\n",
            "CERTIFICADO DE PERT...\n",
            "\n",
            "Score: 0.0000\n",
            "Título: NACIONALIDAD A´I KOFÁN\n",
            "Contenido: CHINCHAYSUYU JATUN AYLLU LLAKTAKUNAPAK TANTARI\n",
            "\n",
            "FEDERACIÓN DE LOS PUEBLOS KICHWA DE LA SIERRA NORTE DEL ECUADOR\n",
            "FILIAL ECUARUNARI - CONAIE\n",
            "Acuerdo Miniteral N 011 CODENPE - 12 de Noviembre el 2003\n",
            "La ...\n",
            "\n",
            "Score: 0.0000\n",
            "Título: NACIONALIDAD AWÁ\n",
            "Contenido: CHINCHAYSUYU JATUN AYLLU LLAKTAKUNAPAK TANTARI\n",
            "La Federación de los Pueblos Kichwa dela Sierra Norte del Ecuador, y en su nombre,\n",
            "Dolores Pichamba Yumbo, en cidad de Presidenta y Representante Legal d...\n",
            "\n",
            "Score: 0.0000\n",
            "Título: NACIONALIDAD EPERARA\n",
            "Contenido: CHINCHAYSUYU JATUN AYLLU LLAKTAKUNAPAK TANTARI\n",
            "La Federación delos Pueblos Kichwa dela Siera Centro del Ecuador, y en su nombre,\n",
            "Patricio Quishpe Tanday, en calidad de Presidente y Representante Legal...\n",
            "\n",
            "Score: 0.0000\n",
            "Título: PUEBLO AFROECUATORIANO\n",
            "Contenido: NACIONALIDADES Y PUEBLOS ORIGINARIOS PUEBLO AFOECUATORIANO\n",
            "\n",
            "CERTIFICADO DE PERTENENCIA\n",
            "\n",
            "La suscrita señora, ANGÉLICA MOREIRA QUIÑÓNEZ, con cédula do ciudadanía\n",
            "10804562391, en calidad de REPRESENTANTE...\n",
            "\n"
          ]
        }
      ],
      "source": [
        "def buscar_similitud(query, top_k=5):\n",
        "    query_vec = vectorizer.transform([query])\n",
        "    similitudes = cosine_similarity(query_vec, doc_vectors).flatten()\n",
        "    idx_top = np.argsort(similitudes)[::-1][:top_k]\n",
        "    resultados = []\n",
        "    for idx in idx_top:\n",
        "        resultados.append({\n",
        "            'content': documents[idx]['content'],\n",
        "            'meta': documents[idx]['meta'],\n",
        "            'score': similitudes[idx]\n",
        "        })\n",
        "    return resultados\n",
        "\n",
        "query = \"lenguas indígenas amazónicas\"\n",
        "resultados = buscar_similitud(query)\n",
        "for r in resultados:\n",
        "    print(f\"Score: {r['score']:.4f}\")\n",
        "    print(f\"Título: {r['meta']['title']}\")\n",
        "    print(f\"Contenido: {r['content'][:200]}...\\n\")"
      ]
    },
    {
      "cell_type": "markdown",
      "source": [
        "# Guardar documentos"
      ],
      "metadata": {
        "id": "C5o1ptl5kcS-"
      },
      "id": "C5o1ptl5kcS-"
    },
    {
      "cell_type": "code",
      "source": [
        "import pickle\n",
        "\n",
        "# Guardar la lista documents en un archivo pickle\n",
        "output_path = \"/content/drive/MyDrive/rag_project/documents.pkl\"\n",
        "\n",
        "with open(output_path, \"wb\") as f:\n",
        "    pickle.dump(documents, f)\n",
        "\n",
        "print(f\"📦 Documents guardados en {output_path}\")"
      ],
      "metadata": {
        "colab": {
          "base_uri": "https://localhost:8080/"
        },
        "id": "G-5RW7ASjxMF",
        "outputId": "46b32de9-4e4b-43c4-c192-78b863a34a2e"
      },
      "id": "G-5RW7ASjxMF",
      "execution_count": null,
      "outputs": [
        {
          "output_type": "stream",
          "name": "stdout",
          "text": [
            "📦 Documents guardados en /content/drive/MyDrive/rag_project/documents.pkl\n"
          ]
        }
      ]
    },
    {
      "cell_type": "code",
      "source": [
        "import pickle\n",
        "\n",
        "input_path = \"/content/drive/MyDrive/rag_project/documents.pkl\"\n",
        "\n",
        "with open(input_path, \"rb\") as f:\n",
        "    documents = pickle.load(f)\n",
        "\n",
        "print(f\"📂 Documents cargados, total: {len(documents)}\")\n",
        "print(documents[0])  # Para verificar el contenido"
      ],
      "metadata": {
        "colab": {
          "base_uri": "https://localhost:8080/"
        },
        "id": "eB5crrqBj9pN",
        "outputId": "941e8e1f-8e07-4c59-e1a2-0e4fe8af8b9e"
      },
      "id": "eB5crrqBj9pN",
      "execution_count": null,
      "outputs": [
        {
          "output_type": "stream",
          "name": "stdout",
          "text": [
            "📂 Documents cargados, total: 6\n",
            "{'content': 'NACIONALIDADES Y PUEBLOS ORIGINARIOS NACIONALIDAD SHUAR.\\n\\nCantón Macas Prodncia de Moron Samiago Ecuador\\n\\nCERTIFICADO DE PERTENENCIA\\n\\nLa suscrita señora, LUCÍA NANTIP JAMANOH, con códula de ciudadanía 1402987643, en\\ncalidad de WINARU DE LAS NACIONALIDADES Y PUEBLOS ORIGINARIOS DE LA,\\nNACIONALIDAD SHUAR. SHUARMAKA ICHIAMU NUWIAR, En uso de sus atribuciones\\nestatutarias vigentes y en forma legal, concede el siguiente\\n\\nCERTIFICA\\n\\n¡Conocer al joven: KUNKU KUNTUI DAVID JAVIER, portador de La códula do identidad N*.\\n140385021-7, de nacionalidad shuar, hablante detidioma Shuar Chicham, domiciliado\\n¡na comunidad Taisha Yuwint, parroquía Talsha, cantón Taisha, provincia de Morona\\nSantiago.\\n\\n¡Sus orígenos y ascendencia pertenecen a esta nacionalidad, en consecuencia, el\\nmencionado joven forma parte legítima de las nacionalidades indigenas de la Amazonía\\necuatoriana, por herencia ancestral y derecho propio,\\n\\n \\n\\nRazón pora cual CERTIFICO, concedo se considere y pueda tramitar ona api\\nse tiene con la obtención de beca como ciudadano de la nacionalidad shuar.\\n\\n \\n\\nElpresente certificado es otorgado en el despacho de la oficina de las Nacionalidades y\\nPueblos Originarios dela Nacionalidad Shuar, a los dieciséis días del mes de julio de dos\\nmilveinticinco,\\n\\n \\n\\nAtentamente,\\n\\nSAPETSAMA SHUARMAKA WINARU PRESIDENTA.\\nSra. Lucía Nantip Jamanch\\n\\x0c\\n', 'meta': {'file_path': '/EJEMPLO 1 DE PUEBLOS Y NACIONALIDADES.txt', 'title': 'NACIONALIDAD TSA´CHILA', 'lengua': 'Tsa´Fiki', 'ubicacion': 'SANTO DOMINGO DE LOS TSÁ^CHILAS '}}\n"
          ]
        }
      ]
    }
  ],
  "metadata": {
    "colab": {
      "provenance": []
    },
    "kernelspec": {
      "display_name": "Python 3 (ipykernel)",
      "language": "python",
      "name": "python3"
    },
    "language_info": {
      "codemirror_mode": {
        "name": "ipython",
        "version": 3
      },
      "file_extension": ".py",
      "mimetype": "text/x-python",
      "name": "python",
      "nbconvert_exporter": "python",
      "pygments_lexer": "ipython3",
      "version": "3.10.8"
    }
  },
  "nbformat": 4,
  "nbformat_minor": 5
}